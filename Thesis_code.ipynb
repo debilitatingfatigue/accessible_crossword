{
 "cells": [
  {
   "cell_type": "code",
   "execution_count": 1,
   "id": "ee7acb10-a74a-4501-bb50-f3bc18208d8f",
   "metadata": {},
   "outputs": [
    {
     "name": "stdout",
     "output_type": "stream",
     "text": [
      "Python 3.12.7\n"
     ]
    }
   ],
   "source": [
    "!python --version"
   ]
  },
  {
   "cell_type": "markdown",
   "id": "64ee7f47-3e65-4107-9265-dd3d7ca732d3",
   "metadata": {},
   "source": [
    "# Homonym processing"
   ]
  },
  {
   "cell_type": "code",
   "execution_count": 7,
   "id": "7b2f46e3-b0af-4cba-a47c-369d0fef33cc",
   "metadata": {},
   "outputs": [
    {
     "data": {
      "application/vnd.jupyter.widget-view+json": {
       "model_id": "b088b14260704a5d8efdc54d47289393",
       "version_major": 2,
       "version_minor": 0
      },
      "text/plain": [
       "README.md:   0%|          | 0.00/381 [00:00<?, ?B/s]"
      ]
     },
     "metadata": {},
     "output_type": "display_data"
    },
    {
     "name": "stderr",
     "output_type": "stream",
     "text": [
      "C:\\Users\\AnAnG\\anaconda3\\Lib\\site-packages\\huggingface_hub\\file_download.py:140: UserWarning: `huggingface_hub` cache-system uses symlinks by default to efficiently store duplicated files but your machine does not support them in C:\\Users\\AnAnG\\.cache\\huggingface\\hub\\datasets--guychuk--typos-misspellings-homophones-dataset. Caching files will still work but in a degraded version that might require more space on your disk. This warning can be disabled by setting the `HF_HUB_DISABLE_SYMLINKS_WARNING` environment variable. For more details, see https://huggingface.co/docs/huggingface_hub/how-to-cache#limitations.\n",
      "To support symlinks on Windows, you either need to activate Developer Mode or to run Python as an administrator. In order to activate developer mode, see this article: https://docs.microsoft.com/en-us/windows/apps/get-started/enable-your-device-for-development\n",
      "  warnings.warn(message)\n"
     ]
    },
    {
     "data": {
      "application/vnd.jupyter.widget-view+json": {
       "model_id": "93deccb08b954bf791f5214431184460",
       "version_major": 2,
       "version_minor": 0
      },
      "text/plain": [
       "train-00000-of-00001.parquet:   0%|          | 0.00/424k [00:00<?, ?B/s]"
      ]
     },
     "metadata": {},
     "output_type": "display_data"
    },
    {
     "data": {
      "application/vnd.jupyter.widget-view+json": {
       "model_id": "e217630fc4534bceb5a82518a37fe7f0",
       "version_major": 2,
       "version_minor": 0
      },
      "text/plain": [
       "Generating train split:   0%|          | 0/35598 [00:00<?, ? examples/s]"
      ]
     },
     "metadata": {},
     "output_type": "display_data"
    }
   ],
   "source": [
    "from datasets import load_dataset\n",
    "\n",
    "dataset = load_dataset(\"guychuk/typos-misspellings-homophones-dataset\") # , split=\"train\""
   ]
  },
  {
   "cell_type": "code",
   "execution_count": 8,
   "id": "2e761527-ae21-469f-a363-b5ca3ae0d0a9",
   "metadata": {},
   "outputs": [
    {
     "data": {
      "text/plain": [
       "array(['homophone', 'typo', 'misspelling'], dtype=object)"
      ]
     },
     "execution_count": 8,
     "metadata": {},
     "output_type": "execute_result"
    }
   ],
   "source": [
    "import pandas as pd\n",
    "\n",
    "df = pd.read_parquet(\"hf://datasets/guychuk/typos-misspellings-homophones-dataset/data/train-00000-of-00001.parquet\")\n",
    "df[\"type\"].unique()"
   ]
  },
  {
   "cell_type": "code",
   "execution_count": 17,
   "id": "98157dd5-693d-47bb-9055-fe540e27116a",
   "metadata": {},
   "outputs": [
    {
     "name": "stdout",
     "output_type": "stream",
     "text": [
      "adherents -- adherence\n",
      "color -- culler\n",
      "weed -- we'd\n",
      "towed -- toad\n",
      "story -- storey\n",
      "fouler -- fowler\n",
      "burrow -- borough\n",
      "borne -- bourne\n",
      "complement -- compliment\n",
      "Maine -- mane\n",
      "odd -- awed\n",
      "hole -- whole\n",
      "site -- cite\n",
      "callous -- callus\n",
      "jury -- Jewry\n",
      "he'll -- heal\n",
      "intension -- intention\n",
      "sod -- sawed\n",
      "rouse -- rows\n",
      "semen -- seaman\n",
      "hear -- here\n",
      "sane -- seine\n",
      "reign -- rain\n",
      "pie -- pi\n",
      "ode -- owed\n",
      "might -- mite\n",
      "size -- sighs\n",
      "whorl -- whirl\n",
      "sundae -- Sunday\n",
      "awful -- offal\n",
      "yew -- you\n",
      "cheep -- cheap\n",
      "bait -- bate\n",
      "ewes -- use\n",
      "bettor -- better\n",
      "lent -- leant\n",
      "sighed -- side\n",
      "raise -- rays\n",
      "graze -- grays\n",
      "bussed -- bust\n",
      "write -- wright\n",
      "pear -- pare\n",
      "cursor -- curser\n",
      "Sioux -- sue\n",
      "lief -- leaf\n",
      "raiser -- razor\n",
      "viol -- vial\n",
      "missed -- mist\n",
      "leak -- leek\n",
      "perish -- parish\n"
     ]
    }
   ],
   "source": [
    "import random\n",
    "\n",
    "df_homophones = df[df[\"type\"] == \"homophone\"]\n",
    "idx_homophones = random.sample(range(1, df_homophones.shape[0]), 50)\n",
    "\n",
    "list_of_homophones = []\n",
    "\n",
    "for idx in idx_homophones:\n",
    "    print(f'{df_homophones.loc[idx, \"correct\"]} -- {df_homophones.loc[idx, \"variant\"]}')"
   ]
  },
  {
   "cell_type": "code",
   "execution_count": null,
   "id": "ab194b3f-b680-49bd-9236-24f1c0a50fdd",
   "metadata": {},
   "outputs": [],
   "source": []
  }
 ],
 "metadata": {
  "kernelspec": {
   "display_name": "Python [conda env:base] *",
   "language": "python",
   "name": "conda-base-py"
  },
  "language_info": {
   "codemirror_mode": {
    "name": "ipython",
    "version": 3
   },
   "file_extension": ".py",
   "mimetype": "text/x-python",
   "name": "python",
   "nbconvert_exporter": "python",
   "pygments_lexer": "ipython3",
   "version": "3.12.7"
  }
 },
 "nbformat": 4,
 "nbformat_minor": 5
}
